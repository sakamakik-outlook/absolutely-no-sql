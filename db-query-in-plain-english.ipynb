{
 "cells": [
  {
   "cell_type": "code",
   "execution_count": 2,
   "metadata": {},
   "outputs": [],
   "source": [
    "import openai\n",
    "import os\n",
    "\n",
    "# Set up the OpenAI API credentials, replace this with your key\n",
    "openai.api_key = \"sk-xxxxxxxxxxxxxxxxxxxxxxxx\""
   ]
  },
  {
   "cell_type": "code",
   "execution_count": 3,
   "metadata": {},
   "outputs": [],
   "source": [
    "sql_schmea = \"\"\"\n",
    "  CREATE TABLE orders (\n",
    "    ORDERNUMBER INT,\n",
    "    QUANTITYORDERED INT,\n",
    "    PRICEEACH DECIMAL(10,2),\n",
    "    ORDERLINENUMBER INT,\n",
    "    SALES DECIMAL(10,2),\n",
    "    ORDERDATE DATE,\n",
    "    STATUS VARCHAR(50),\n",
    "    QTR_ID INT,\n",
    "    MONTH_ID INT,\n",
    "    YEAR_ID INT,\n",
    "    PRODUCTLINE VARCHAR(50),\n",
    "    MSRP DECIMAL(10,2),\n",
    "    PRODUCTCODE VARCHAR(50),\n",
    "    CUSTOMERNAME VARCHAR(100),\n",
    "    PHONE VARCHAR(50),\n",
    "    ADDRESSLINE1 VARCHAR(100),\n",
    "    ADDRESSLINE2 VARCHAR(100),\n",
    "    CITY VARCHAR(50),\n",
    "    STATE VARCHAR(50),\n",
    "    POSTALCODE VARCHAR(20),\n",
    "    COUNTRY VARCHAR(50),\n",
    "    TERRITORY VARCHAR(50),\n",
    "    CONTACTLASTNAME VARCHAR(50),\n",
    "    CONTACTFIRSTNAME VARCHAR(50),\n",
    "    DEALSIZE VARCHAR(50)\n",
    "  );\n",
    "  \"\"\"\n",
    "\n",
    "\n",
    "import psycopg2\n",
    "import pandas as pd\n",
    "\n",
    "def get_order_data(sql):\n",
    "\n",
    "    conn = psycopg2.connect(host=\"localhost\",database=\"postgres\", user=\"postgres\", password=\"password\", port=\"5432\")\n",
    "    cur = conn.cursor()\n",
    "    cur.execute(sql)\n",
    "    rows = cur.fetchall()\n",
    "    cur.close()\n",
    "    conn.close()\n",
    "    df = pd.DataFrame(rows)    \n",
    "    return df\n"
   ]
  },
  {
   "cell_type": "code",
   "execution_count": 4,
   "metadata": {},
   "outputs": [],
   "source": [
    "\n",
    "def ask_gpt_and_run_query(question):\n",
    "  # Define the prompt and parameters for the API request\n",
    "  prompt = question + \"\"\"\n",
    "    Given the schema below on a postgres database: \n",
    "  \"\"\" + sql_schmea\n",
    "\n",
    "  model = \"text-davinci-002\"\n",
    "  temperature = 0\n",
    "  max_tokens = 100\n",
    "\n",
    "  # Call the API to generate text\n",
    "  response = openai.Completion.create(\n",
    "      engine=model,\n",
    "      prompt=prompt,\n",
    "      temperature=temperature,\n",
    "      max_tokens=max_tokens\n",
    "  )\n",
    "  print (f'SQL : {response.choices[0].text}')\n",
    "  print (f'------------------------')\n",
    "  print (get_order_data(response.choices[0].text))\n"
   ]
  },
  {
   "cell_type": "code",
   "execution_count": 94,
   "metadata": {},
   "outputs": [
    {
     "name": "stdout",
     "output_type": "stream",
     "text": [
      "SQL : \n",
      "  SELECT productline, sum(sales)\n",
      "  FROM orders\n",
      "  WHERE year_id = 2003\n",
      "  GROUP BY productline;\n",
      "------------------------\n",
      "                  0           1\n",
      "0      Classic Cars  1484785.29\n",
      "1            Trains    72802.29\n",
      "2            Planes   272257.60\n",
      "3  Trucks and Buses   420429.93\n",
      "4      Vintage Cars   650987.76\n",
      "5       Motorcycles   370895.58\n",
      "6             Ships   244821.09\n"
     ]
    }
   ],
   "source": [
    "ask_gpt_and_run_query(\"Get the total sales for each product line for the year 2003.\") \n"
   ]
  },
  {
   "cell_type": "code",
   "execution_count": 95,
   "metadata": {},
   "outputs": [
    {
     "name": "stdout",
     "output_type": "stream",
     "text": [
      "SQL : \n",
      "  SELECT customerName, SUM(sales) AS total_sales\n",
      "  FROM orders\n",
      "  WHERE year_id = 2003\n",
      "  GROUP BY customerName\n",
      "  ORDER BY total_sales DESC\n",
      "  LIMIT 10;\n",
      "------------------------\n",
      "                              0          1\n",
      "0         Euro Shopping Channel  210227.58\n",
      "1  Mini Gifts Distributors Ltd.  185128.12\n",
      "2       Dragon Souveniers, Ltd.  165686.20\n",
      "3            Muscle Machine Inc  132778.24\n",
      "4          Technics Stores Inc.  104337.30\n",
      "5           Mini Creations Ltd.   97929.83\n",
      "6                 Rovelli Gifts   96259.03\n",
      "7      Corporate Gift Ideas Co.   95678.88\n",
      "8                  Herkku Gifts   95277.18\n",
      "9       Anna's Decorations, Ltd   88983.71\n"
     ]
    }
   ],
   "source": [
    "ask_gpt_and_run_query(\"Get the top 10 customers who gave the highest sales for the year 2003.\")"
   ]
  },
  {
   "cell_type": "code",
   "execution_count": 100,
   "metadata": {},
   "outputs": [
    {
     "name": "stdout",
     "output_type": "stream",
     "text": [
      "SQL : \n",
      "\n",
      "SELECT ORDERNUMBER, CUSTOMERNAME, SALES\n",
      "FROM orders\n",
      "ORDER BY SALES DESC\n",
      "LIMIT 1;\n",
      "------------------------\n",
      "       0                          1         2\n",
      "0  10407  The Sharp Gifts Warehouse  14082.80\n"
     ]
    }
   ],
   "source": [
    "ask_gpt_and_run_query(\"What was the order number and the client name of the highest sales?  Run SQL\")"
   ]
  },
  {
   "cell_type": "code",
   "execution_count": 103,
   "metadata": {},
   "outputs": [
    {
     "name": "stdout",
     "output_type": "stream",
     "text": [
      "SQL : \n",
      "  SELECT COUNT(*) FROM orders;\n",
      "------------------------\n",
      "      0\n",
      "0  2823\n"
     ]
    }
   ],
   "source": [
    "ask_gpt_and_run_query(\"How many records are there in the orders table?  Give me the SQL to get the number of records in the orders table.\")"
   ]
  },
  {
   "cell_type": "code",
   "execution_count": null,
   "metadata": {},
   "outputs": [],
   "source": []
  }
 ],
 "metadata": {
  "kernelspec": {
   "display_name": "Python 3",
   "language": "python",
   "name": "python3"
  },
  "language_info": {
   "codemirror_mode": {
    "name": "ipython",
    "version": 3
   },
   "file_extension": ".py",
   "mimetype": "text/x-python",
   "name": "python",
   "nbconvert_exporter": "python",
   "pygments_lexer": "ipython3",
   "version": "3.11.5"
  },
  "orig_nbformat": 4
 },
 "nbformat": 4,
 "nbformat_minor": 2
}
